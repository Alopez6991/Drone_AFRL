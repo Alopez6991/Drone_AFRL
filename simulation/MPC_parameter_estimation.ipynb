{
 "cells": [
  {
   "cell_type": "code",
   "execution_count": 15,
   "id": "9b303e70",
   "metadata": {},
   "outputs": [
    {
     "name": "stdout",
     "output_type": "stream",
     "text": [
      "The autoreload extension is already loaded. To reload it, use:\n",
      "  %reload_ext autoreload\n"
     ]
    }
   ],
   "source": [
    "%reset -f\n",
    "%load_ext autoreload\n",
    "%autoreload 2\n",
    "\n",
    "import os\n",
    "import time\n",
    "import sys\n",
    "import numpy as np\n",
    "import pandas as pd\n",
    "import matplotlib as mpl\n",
    "import matplotlib.pyplot as plt\n",
    "import glob\n",
    "import math\n",
    "from sklearn.linear_model import LinearRegression\n",
    "import figurefirst as fifi\n",
    "sys.path.append('../utils_2')\n",
    "import figure_functions as ff\n",
    "from pybounds import SlidingEmpiricalObservabilityMatrix, SlidingFisherObservability, colorline\n",
    "sys.path.append('../model')\n",
    "from drone_model_with_PWM import DroneSimulator\n",
    "from drone_model_with_PWM import DroneModel\n",
    "from drone_model_with_PWM import DroneParameters\n",
    "sys.path.append('../EKF')\n",
    "from ekf import ekf as EKF\n",
    "from scipy.optimize import minimize"
   ]
  },
  {
   "cell_type": "markdown",
   "id": "2f3f114c",
   "metadata": {},
   "source": [
    "# set the parameters for your system"
   ]
  },
  {
   "cell_type": "code",
   "execution_count": 16,
   "id": "7896daae",
   "metadata": {},
   "outputs": [],
   "source": [
    "g = 9.81  # gravity [m/s^2]\n",
    "m = 0.086  # mass [kg]\n",
    "M = 2.529  # mass [kg]\n",
    "Mm = 4 * m + M  # total mass [kg]\n",
    "L = 0.2032  # length [m]\n",
    "R = 0.1778  # average body radius [m]\n",
    "I_x = .491\n",
    "# self.I_x = 2 * (self.M * self.R ** 2) / 5 + 2 * self.m * self.L ** 2  # [kg*m^2] moment of inertia about x\n",
    "I_y = .387\n",
    "# self.I_y = 2 * (self.M * self.R ** 2) / 5 + 2 * self.m * self.L ** 2  # [kg*m^2] moment of inertia about y\n",
    "I_z = .667\n",
    "# self.I_z = 2 * (self.M * self.R ** 2) / 5 + 4 * self.m * self.L ** 2  # [kg*m^2] moment of inertia about y\n",
    "# b = 1.8311  # thrust coefficient\n",
    "# d = 1  # drag constant\n",
    "# C = 0.1  # drag coefficient from ground speed plus air speed\n",
    "b = 1.34\n",
    "d = 1.0\n",
    "C = 0.1\n",
    "\n",
    "PARAMS = {\n",
    "        'g': g,\n",
    "        'm': m,\n",
    "        'M': M,\n",
    "        'Mm': Mm,\n",
    "        'L': L,\n",
    "        'R': R,\n",
    "        'I_x': I_x,\n",
    "        'I_y': I_y,\n",
    "        'I_z': I_z,\n",
    "        'b': b,\n",
    "        'd': d,\n",
    "        'C': C\n",
    "                }"
   ]
  },
  {
   "cell_type": "markdown",
   "id": "5d318142",
   "metadata": {},
   "source": [
    "# Build the trajectory set points to go into MPC"
   ]
  },
  {
   "cell_type": "code",
   "execution_count": 17,
   "id": "5ae244d7",
   "metadata": {},
   "outputs": [
    {
     "name": "stdout",
     "output_type": "stream",
     "text": [
      "hello\n",
      "X0_sim 14 \n",
      " [ 0.00000000e+00  0.00000000e+00  2.00000000e+00  1.00000000e+00\n",
      "  0.00000000e+00  0.00000000e+00  0.00000000e+00  0.00000000e+00\n",
      " -7.85398163e-01  0.00000000e+00  0.00000000e+00  0.00000000e+00\n",
      "  1.00000000e-12  1.00000000e-12]\n"
     ]
    }
   ],
   "source": [
    "dt = 0.1  # sampling time [s]\n",
    "fs = 1 / dt  # sampling frequency [hz]\n",
    "T = 11.0  # total time [s]\n",
    "tsim = np.arange(0, T + dt/2, step=dt) # time vector [s]\n",
    "g0 = 1.0\n",
    "t0 = 1.0\n",
    "v_x =  g0 * np.ones_like(tsim) + 0.0 * tsim\n",
    "v_y =  0.0 * np.ones_like(tsim) + 0.0 * tsim\n",
    "psi = (-np.pi/4) * np.ones_like(tsim)\n",
    "psi_global = -(np.pi/4) * np.ones_like(tsim)\n",
    "index = int((0.5 + t0) * fs)\n",
    "v_x[index:] = v_x[index] - 3*g0/4\n",
    "index = int((3.0 + t0) * fs)\n",
    "v_x[index:] = v_x[index] + 3*g0/4\n",
    "index = int((4.0 + t0) * fs)\n",
    "psi[index:] = psi[index] + np.pi/2\n",
    "index = int((6.9 + t0) * fs)\n",
    "psi[index:] = psi[index] + np.pi/1.3\n",
    "index = int((8.0 + t0) * fs)\n",
    "tsim_temp = tsim[index:]\n",
    "tsim_temp = tsim_temp - tsim_temp[0]\n",
    "psi_temp = -(np.pi/3)*np.sin(2*np.pi*0.6*tsim_temp + np.pi/2) + 0.0*(np.pi/6)*np.cos(2*np.pi*1.0*tsim_temp + np.pi/3)\n",
    "psi_temp = psi_temp - psi_temp[0]\n",
    "# psi_temp = util.wrapTo2Pi(psi_temp)\n",
    "psi[index:] = psi[index] + psi_temp\n",
    "index = int((8.0 + t0) * fs)\n",
    "psi[index:] = psi[index:] + np.pi/2\n",
    "# Global course\n",
    "x_dot = v_x * np.cos(psi_global) + v_y * np.sin(psi_global)\n",
    "y_dot = v_x * np.sin(psi_global) + v_y * np.cos(psi_global)\n",
    "index = int((5.5 + t0) * fs)\n",
    "psi_global[index:] = psi_global[index] - np.pi/2\n",
    "index = int((6.9 + t0) * fs)\n",
    "psi_global[index:] = psi_global[index] + np.pi/2\n",
    "# index = int((7.5 + t0) * fs)\n",
    "# psi_global[index:] = psi_global[index] + np.pi\n",
    "v_x = x_dot * np.cos(psi_global) + y_dot * np.sin(psi_global)\n",
    "v_y = y_dot * np.cos(psi_global) - x_dot * np.sin(psi_global)\n",
    "z= 2 * np.ones_like(v_x)\n",
    "\n",
    "# get x0_sim for states x, y, z, v_x, v_y, v_z, phi, theta, psi, omega_x, omega_y, omega_z, wx, wy\n",
    "X0_sim = np.array([0, 0, z[0], v_x[0], v_y[0], 0, 0, 0, psi[0], 0, 0, 0, 0, 0])\n",
    "# Check if the absolute values of the last two elements are both < 1e-12\n",
    "if abs(X0_sim[-1]) < 1e-12 and abs(X0_sim[-2]) < 1e-12:\n",
    "    print('hello')\n",
    "    X0_sim[-2] = 1e-12\n",
    "    X0_sim[-1] = 1e-12\n",
    "print(\"X0_sim\", len(X0_sim), '\\n', X0_sim)"
   ]
  },
  {
   "cell_type": "markdown",
   "id": "8abe5b05",
   "metadata": {},
   "source": [
    "# run MPC"
   ]
  },
  {
   "cell_type": "code",
   "execution_count": 18,
   "id": "f4c07f3b",
   "metadata": {},
   "outputs": [
    {
     "name": "stdout",
     "output_type": "stream",
     "text": [
      "Drone parameters: {'g': 9.81, 'm': 0.086, 'M': 2.529, 'Mm': 2.8729999999999998, 'L': 0.2032, 'R': 0.1778, 'I_x': 0.491, 'I_y': 0.387, 'I_z': 0.667, 'b': 1.34, 'd': 1.0, 'C': 0.1}\n",
      "elapsed time: 38.86653995513916\n"
     ]
    }
   ],
   "source": [
    "# Create simulator\n",
    "simulator = DroneSimulator(dt=dt, mpc_horizon=50, r_u=1e-4, control_mode='velocity_body_level',params=PARAMS)\n",
    "# Update the setpoints\n",
    "simulator.update_setpoint(v_x=v_x, v_y=v_y, psi=psi, z=z, wx=np.zeros_like(z), wy=np.zeros_like(z))\n",
    "# Run simulation\n",
    "st = time.time()\n",
    "# t_sim, x_sim, u_sim, y_sim = simulator.simulate(x0=X0_sim, u=U_real, mpc=False, return_full_output=True)\n",
    "t_sim, x_sim, u_sim, y_sim = simulator.simulate(x0=X0_sim, mpc=True, return_full_output=True)\n",
    "et = time.time()\n",
    "print('elapsed time:', et-st)"
   ]
  },
  {
   "cell_type": "markdown",
   "id": "6a2fef74",
   "metadata": {},
   "source": [
    "# plot trajectory"
   ]
  },
  {
   "cell_type": "code",
   "execution_count": 19,
   "id": "f2f62266",
   "metadata": {},
   "outputs": [
    {
     "data": {
      "image/png": "[encoded data removed]",
      "text/plain": [
       "<Figure size 900x900 with 1 Axes>"
      ]
     },
     "metadata": {},
     "output_type": "display_data"
    }
   ],
   "source": [
    "fig, ax = plt.subplots(1, 1, figsize=(3 * 1, 3 * 1), sharex=True, sharey=True, dpi=300)\n",
    "\n",
    "ff.plot_trajectory(x_sim['x'], x_sim['y'], x_sim['psi'],\n",
    "                   color=t_sim,\n",
    "                   ax=ax,\n",
    "                   size_radius=0.08,\n",
    "                   nskip=0)\n",
    "\n",
    "fifi.mpl_functions.adjust_spines(ax, [])\n"
   ]
  },
  {
   "cell_type": "markdown",
   "id": "e428d39e",
   "metadata": {},
   "source": [
    "# if you want to use to optimize "
   ]
  },
  {
   "cell_type": "code",
   "execution_count": null,
   "id": "786f229b",
   "metadata": {},
   "outputs": [
    {
     "name": "stdout",
     "output_type": "stream",
     "text": [
      "Drone parameters: {'g': 9.81, 'm': 0.086, 'M': 2.529, 'Mm': 2.8729999999999998, 'L': 0.2032, 'R': 0.1778, 'I_x': 0.491, 'I_y': 0.387, 'I_z': 0.667, 'b': 1.34, 'd': 1.0, 'C': 0.1}\n",
      "Drone parameters: {'g': 9.81, 'm': 0.086, 'M': 2.529, 'Mm': 2.8729999999999998, 'L': 0.2032, 'R': 0.1778, 'I_x': 0.49100001, 'I_y': 0.387, 'I_z': 0.667, 'b': 1.34, 'd': 1.0, 'C': 0.1}\n",
      "Drone parameters: {'g': 9.81, 'm': 0.086, 'M': 2.529, 'Mm': 2.8729999999999998, 'L': 0.2032, 'R': 0.1778, 'I_x': 0.491, 'I_y': 0.38700001, 'I_z': 0.667, 'b': 1.34, 'd': 1.0, 'C': 0.1}\n"
     ]
    }
   ],
   "source": [
    "# initial PARAMS (defaults)\n",
    "BASE = {\n",
    "    'g': 9.81,\n",
    "    'm': 0.086,\n",
    "    'M': 2.529,\n",
    "    'Mm': 4*0.086 + 2.529,\n",
    "    'L': 0.2032,\n",
    "    'R': 0.1778,\n",
    "    'I_x': 0.491,\n",
    "    'I_y': 0.387,\n",
    "    'I_z': 0.667,\n",
    "    'b': 1.34,\n",
    "    'd': 1.0,\n",
    "    'C': 0.1\n",
    "}\n",
    "\n",
    "# get real PWM data but for now # use the simulated controls plus some noise and offsets\n",
    "PWM_1 = u_sim['PWM1'] + np.random.normal(0, 0.01, len(u_sim['PWM1'])) + 100\n",
    "PWM_2 = u_sim['PWM2'] + np.random.normal(0, 0.01, len(u_sim['PWM2'])) + 100\n",
    "PWM_3 = u_sim['PWM3'] + np.random.normal(0, 0.01, len(u_sim['PWM3'])) + 100\n",
    "PWM_4 = u_sim['PWM4'] + np.random.normal(0, 0.01, len(u_sim['PWM4'])) + 100\n",
    "def objective(p):\n",
    "    # unpack\n",
    "    I_x, I_y, I_z= p\n",
    "\n",
    "    # build a fresh PARAMS dict\n",
    "    params = BASE.copy()\n",
    "    params.update({'I_x': I_x,\n",
    "                   'I_y': I_y,\n",
    "                   'I_z': I_z})\n",
    "\n",
    "    # instantiate simulator\n",
    "    sim = DroneSimulator(\n",
    "        dt=dt,\n",
    "        mpc_horizon=50,\n",
    "        r_u=1e-4,\n",
    "        control_mode='velocity_body_level',\n",
    "        params=params\n",
    "    )\n",
    "\n",
    "    # set the trajectory\n",
    "    sim.update_setpoint(\n",
    "        v_x=v_x,\n",
    "        v_y=v_y,\n",
    "        psi=psi,\n",
    "        z=z,\n",
    "        wx=np.zeros_like(z),\n",
    "        wy=np.zeros_like(z)\n",
    "    )\n",
    "\n",
    "    # run the MPC rollout (downsample via nth inside RMSE)\n",
    "    _, _, u_sim, _ = sim.simulate(\n",
    "        x0=X0_sim,\n",
    "        mpc=True,\n",
    "        return_full_output=True\n",
    "    )\n",
    "\n",
    "    # recompute controls from PWM\n",
    "    Lx = 2 * params['L'] / np.sqrt(2)\n",
    "    u_thrust_sim = params['b'] * (u_sim['PWM1'] + u_sim['PWM2'] +\n",
    "                                  u_sim['PWM3'] + u_sim['PWM4'])\n",
    "    u_phi_sim    = params['b'] * Lx * (-u_sim['PWM1'] + u_sim['PWM2'] +\n",
    "                                       u_sim['PWM3'] - u_sim['PWM4'])\n",
    "    u_theta_sim  = params['b'] * Lx * (-u_sim['PWM1'] + u_sim['PWM2'] -\n",
    "                                       u_sim['PWM3'] + u_sim['PWM4'])\n",
    "    u_psi_sim    = params['d'] * (-u_sim['PWM1'] - u_sim['PWM2'] +\n",
    "                                  u_sim['PWM3'] + u_sim['PWM4'])\n",
    "\n",
    "    # the “real” controls computed from your logged PWM arrays\n",
    "    u_thrust_real = params['b'] * (PWM_1 + PWM_2 + PWM_3 + PWM_4)\n",
    "    u_phi_real    = params['b'] * Lx * (-PWM_1 + PWM_2 + PWM_3 - PWM_4)\n",
    "    u_theta_real  = params['b'] * Lx * (-PWM_1 + PWM_2 - PWM_3 + PWM_4)\n",
    "    u_psi_real    = params['d'] * (-PWM_1 - PWM_2 + PWM_3 + PWM_4)\n",
    "\n",
    "    # helper to compute RMSE with downsampling\n",
    "    def rmse(a, b):\n",
    "        return np.sqrt(np.mean((a - b)**2))\n",
    "\n",
    "    # collect all RMSEs\n",
    "    rmses = [\n",
    "        rmse(PWM_1, u_sim['PWM1']),\n",
    "        rmse(PWM_2, u_sim['PWM2']),\n",
    "        rmse(PWM_3, u_sim['PWM3']),\n",
    "        rmse(PWM_4, u_sim['PWM4']),\n",
    "        # rmse(u_thrust_real, u_thrust_sim),\n",
    "        # rmse(u_phi_real,    u_phi_sim),\n",
    "        # rmse(u_theta_real,  u_theta_sim),\n",
    "        rmse(u_psi_real,    u_psi_sim),\n",
    "    ]\n",
    "\n",
    "    # sum them (you can instead weight or pick a subset)\n",
    "    return np.sum(rmses)\n",
    "\n",
    "\n",
    "if __name__ == '__main__':\n",
    "    # initial guess: defaults from BASE\n",
    "    p0 = np.array([BASE['I_x'], BASE['I_y'], BASE['I_z']])\n",
    "\n",
    "    # bounds to keep things physical\n",
    "    bounds = [\n",
    "        (0.1, 2.0),    # I_x\n",
    "        (0.1, 2.0),    # I_y\n",
    "        (0.1, 2.0),    # I_z\n",
    "    ]\n",
    "\n",
    "    result = minimize(\n",
    "        objective,\n",
    "        x0=p0,\n",
    "        bounds=bounds,\n",
    "        method='L-BFGS-B',\n",
    "        options={'disp': True, 'maxiter': 5}\n",
    "    )\n",
    "\n",
    "    print(\"Success:\", result.success)\n",
    "    print(\"Estimated [I_x, I_y, I_z]:\", result.x)\n",
    "    print(\"Final cost (sum RMSE):\", result.fun)"
   ]
  },
  {
   "cell_type": "code",
   "execution_count": null,
   "id": "1fa9166d",
   "metadata": {},
   "outputs": [],
   "source": []
  }
 ],
 "metadata": {
  "kernelspec": {
   "display_name": "Python 3",
   "language": "python",
   "name": "python3"
  },
  "language_info": {
   "codemirror_mode": {
    "name": "ipython",
    "version": 3
   },
   "file_extension": ".py",
   "mimetype": "text/x-python",
   "name": "python",
   "nbconvert_exporter": "python",
   "pygments_lexer": "ipython3",
   "version": "3.8.10"
  }
 },
 "nbformat": 4,
 "nbformat_minor": 5
}
